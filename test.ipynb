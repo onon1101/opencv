{
 "cells": [
  {
   "cell_type": "code",
   "execution_count": null,
   "outputs": [],
   "source": [
    "img_gray = cv2.cvtColor(img_source, cv2.COLOR_BGR2GRAY)"
   ],
   "metadata": {
    "collapsed": false
   },
   "id": "247e0a903ae78e54"
  },
  {
   "cell_type": "markdown",
   "source": [
    "## 雙通濾波"
   ],
   "metadata": {
    "collapsed": false
   },
   "id": "cca3ff18cb585a51"
  },
  {
   "cell_type": "code",
   "execution_count": null,
   "outputs": [],
   "source": [
    "img_bilateralFilter = cv2.bilateralFilter(img_gray, 19, 20, 20)"
   ],
   "metadata": {
    "collapsed": false
   },
   "id": "1055f0d7da616309"
  },
  {
   "cell_type": "markdown",
   "source": [
    "## 其他"
   ],
   "metadata": {
    "collapsed": false
   },
   "id": "c9fa44fbdc304af7"
  },
  {
   "cell_type": "code",
   "execution_count": null,
   "outputs": [],
   "source": [
    "success, img_bin = cv2.threshold(img_bilateralFilter, 75,255, cv2.THRESH_BINARY)\n",
    "\n",
    "img_morphology = cv2.morphologyEx(img_bin, cv2.MORPH_OPEN, np.ones((5, 5)))\n",
    "\n",
    "cv2.imshow(\"test\", img_morphology)\n",
    "cv2.waitKey(0)"
   ],
   "metadata": {
    "collapsed": false
   },
   "id": "64a4555ae2a1a2b0"
  },
  {
   "cell_type": "code",
   "execution_count": null,
   "outputs": [],
   "source": [],
   "metadata": {
    "collapsed": false
   },
   "id": "74a04a8da3e0a6a2"
  }
 ],
 "metadata": {
  "kernelspec": {
   "display_name": "Python 3",
   "language": "python",
   "name": "python3"
  },
  "language_info": {
   "codemirror_mode": {
    "name": "ipython",
    "version": 2
   },
   "file_extension": ".py",
   "mimetype": "text/x-python",
   "name": "python",
   "nbconvert_exporter": "python",
   "pygments_lexer": "ipython2",
   "version": "2.7.6"
  }
 },
 "nbformat": 4,
 "nbformat_minor": 5
}
